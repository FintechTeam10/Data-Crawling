{
 "cells": [
  {
   "cell_type": "code",
   "execution_count": 1,
   "metadata": {},
   "outputs": [],
   "source": [
    "from selenium import webdriver\n",
    "from selenium.webdriver.common.by import By\n",
    "from selenium.webdriver.support.ui import WebDriverWait\n",
    "from selenium.webdriver.support import expected_conditions as EC\n",
    "import json\n",
    "import time\n",
    "driver = webdriver.Chrome('./chromedriver.exe')"
   ]
  },
  {
   "cell_type": "code",
   "execution_count": 2,
   "metadata": {},
   "outputs": [],
   "source": [
    "name = '쯔양' #input()"
   ]
  },
  {
   "cell_type": "code",
   "execution_count": 3,
   "metadata": {},
   "outputs": [],
   "source": [
    "url = 'https://some.co.kr/analysis/social/reputation'\n",
    "driver.get(url)"
   ]
  },
  {
   "cell_type": "code",
   "execution_count": 4,
   "metadata": {
    "scrolled": true
   },
   "outputs": [],
   "source": [
    "# 팝업창 닫기\n",
    "WebDriverWait(driver, 20).until(EC.element_to_be_clickable((By.XPATH, \"/html/body/div[13]/div[5]/div/p/a\"))).click()"
   ]
  },
  {
   "cell_type": "code",
   "execution_count": 5,
   "metadata": {},
   "outputs": [],
   "source": [
    "# 모달 열기\n",
    "driver.find_element_by_xpath(\"//button[@type='button']\").click()"
   ]
  },
  {
   "cell_type": "code",
   "execution_count": 6,
   "metadata": {},
   "outputs": [],
   "source": [
    "# 검색 시작\n",
    "find = driver.find_element_by_xpath(\"/html/body/div[4]/div/div[1]/div[2]/div[1]/form/fieldset/div/div[1]/div/input\")\n",
    "find.send_keys(name)\n",
    "driver.find_element_by_xpath(\"/html/body/div[4]/div/div[1]/div[2]/div[2]/div/div[2]/button\").click()\n",
    "time.sleep(2)"
   ]
  },
  {
   "cell_type": "code",
   "execution_count": 7,
   "metadata": {},
   "outputs": [],
   "source": [
    "from bs4 import BeautifulSoup\n",
    "from html_table_parser import parser_functions as parser"
   ]
  },
  {
   "cell_type": "code",
   "execution_count": 8,
   "metadata": {},
   "outputs": [],
   "source": [
    "html = driver.page_source\n",
    "soup = BeautifulSoup(html, 'html.parser')"
   ]
  },
  {
   "cell_type": "code",
   "execution_count": 9,
   "metadata": {},
   "outputs": [],
   "source": [
    "# 댓글 평판 크롤링\n",
    "temp = soup.find_all('table')\n",
    "p = parser.make2d(temp[1])"
   ]
  },
  {
   "cell_type": "code",
   "execution_count": 10,
   "metadata": {},
   "outputs": [],
   "source": [
    "positive = [ [x[0],x[2]] for x in p if x[1]=='긍정']\n",
    "negative = [ [x[0],x[2]] for x in p if x[1]=='부정']\n",
    "neutral = [ [x[0],x[2]] for x in p if x[1]=='중립']"
   ]
  },
  {
   "cell_type": "code",
   "execution_count": 11,
   "metadata": {},
   "outputs": [],
   "source": [
    "data = {}\n",
    "data['name'] = name"
   ]
  },
  {
   "cell_type": "code",
   "execution_count": 12,
   "metadata": {},
   "outputs": [],
   "source": [
    "data['reputation'] = []\n",
    "data[\"reputation\"].append({\n",
    "    \"type\" : \"positive\",\n",
    "    \"data\" : positive\n",
    "})\n",
    "data[\"reputation\"].append({\n",
    "    \"type\" : \"negative\",\n",
    "    \"data\" : negative\n",
    "})\n",
    "data[\"reputation\"].append({\n",
    "    \"type\" : \"neutral\",\n",
    "    \"data\" : neutral\n",
    "})"
   ]
  },
  {
   "cell_type": "code",
   "execution_count": 13,
   "metadata": {},
   "outputs": [
    {
     "data": {
      "text/plain": [
       "{'name': '쯔양',\n",
       " 'reputation': [{'type': 'positive',\n",
       "   'data': [['이쁘다', '29'],\n",
       "    ['응원하다', '29'],\n",
       "    ['먹고싶다', '27'],\n",
       "    ['맛있다', '26'],\n",
       "    ['좋다', '21'],\n",
       "    ['유명하다', '19'],\n",
       "    ['좋아하다', '18'],\n",
       "    ['즐기다', '15'],\n",
       "    ['명성 자자하다', '12'],\n",
       "    ['감칠맛', '11'],\n",
       "    ['손맛', '11'],\n",
       "    ['웃음', '11'],\n",
       "    ['진심', '10'],\n",
       "    ['잘먹다', '10'],\n",
       "    ['흥행', '10'],\n",
       "    ['감사드리다', '8'],\n",
       "    ['부럽다', '7'],\n",
       "    ['신기하다', '6'],\n",
       "    ['웃다', '5'],\n",
       "    ['신선하다', '5'],\n",
       "    ['손님 많다', '4'],\n",
       "    ['가고싶다', '4'],\n",
       "    ['대단하다', '4'],\n",
       "    ['재미있다', '4']]},\n",
       "  {'type': 'negative',\n",
       "   'data': [['죄송하다', '31'], ['정 떨어지다', '24'], ['덥다', '6'], ['정떨어지다', '5']]},\n",
       "  {'type': 'neutral', 'data': [['달다', '14'], ['배부르다', '4']]}]}"
      ]
     },
     "execution_count": 13,
     "metadata": {},
     "output_type": "execute_result"
    }
   ],
   "source": [
    "data"
   ]
  },
  {
   "cell_type": "code",
   "execution_count": 14,
   "metadata": {},
   "outputs": [],
   "source": [
    "with open(\"./sometred.json\", 'w',encoding=\"UTF-8\") as outfile:\n",
    "    json.dump(data, outfile,ensure_ascii = False)"
   ]
  }
 ],
 "metadata": {
  "kernelspec": {
   "display_name": "Python 3",
   "language": "python",
   "name": "python3"
  },
  "language_info": {
   "codemirror_mode": {
    "name": "ipython",
    "version": 3
   },
   "file_extension": ".py",
   "mimetype": "text/x-python",
   "name": "python",
   "nbconvert_exporter": "python",
   "pygments_lexer": "ipython3",
   "version": "3.8.7"
  },
  "toc": {
   "base_numbering": 1,
   "nav_menu": {},
   "number_sections": true,
   "sideBar": true,
   "skip_h1_title": false,
   "title_cell": "Table of Contents",
   "title_sidebar": "Contents",
   "toc_cell": false,
   "toc_position": {},
   "toc_section_display": true,
   "toc_window_display": false
  },
  "varInspector": {
   "cols": {
    "lenName": 16,
    "lenType": 16,
    "lenVar": 40
   },
   "kernels_config": {
    "python": {
     "delete_cmd_postfix": "",
     "delete_cmd_prefix": "del ",
     "library": "var_list.py",
     "varRefreshCmd": "print(var_dic_list())"
    },
    "r": {
     "delete_cmd_postfix": ") ",
     "delete_cmd_prefix": "rm(",
     "library": "var_list.r",
     "varRefreshCmd": "cat(var_dic_list()) "
    }
   },
   "types_to_exclude": [
    "module",
    "function",
    "builtin_function_or_method",
    "instance",
    "_Feature"
   ],
   "window_display": false
  }
 },
 "nbformat": 4,
 "nbformat_minor": 5
}
