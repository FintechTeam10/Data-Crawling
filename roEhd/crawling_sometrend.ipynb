{
 "cells": [
  {
   "cell_type": "code",
   "execution_count": 1,
   "id": "f75d2343",
   "metadata": {},
   "outputs": [],
   "source": [
    "from selenium import webdriver\n",
    "from selenium.webdriver.common.by import By\n",
    "from selenium.webdriver.support.ui import WebDriverWait\n",
    "from selenium.webdriver.support import expected_conditions as EC\n",
    "\n",
    "driver = webdriver.Chrome('C:/Tools/chromedriver.exe')"
   ]
  },
  {
   "cell_type": "code",
   "execution_count": 2,
   "id": "c318b1bd",
   "metadata": {},
   "outputs": [],
   "source": [
    "url = 'https://some.co.kr/analysis/social/reputation'\n",
    "driver.get(url)"
   ]
  },
  {
   "cell_type": "code",
   "execution_count": 3,
   "id": "f1ae420e",
   "metadata": {
    "scrolled": true
   },
   "outputs": [],
   "source": [
    "# 팝업창 닫기\n",
    "WebDriverWait(driver, 20).until(EC.element_to_be_clickable((By.XPATH, \"/html/body/div[13]/div[5]/div/p/a\"))).click()"
   ]
  },
  {
   "cell_type": "code",
   "execution_count": 4,
   "id": "a1621e58",
   "metadata": {},
   "outputs": [],
   "source": [
    "# 모달 열기\n",
    "driver.find_element_by_xpath(\"//button[@type='button']\").click()"
   ]
  },
  {
   "cell_type": "code",
   "execution_count": 5,
   "id": "aa912612",
   "metadata": {},
   "outputs": [],
   "source": [
    "# 검색 시작\n",
    "find = driver.find_element_by_xpath(\"/html/body/div[4]/div/div[1]/div[2]/div[1]/form/fieldset/div/div[1]/div/input\")\n",
    "find.send_keys(\"쯔양\")\n",
    "driver.find_element_by_xpath(\"/html/body/div[4]/div/div[1]/div[2]/div[2]/div/div[2]/button\").click()"
   ]
  },
  {
   "cell_type": "code",
   "execution_count": 25,
   "id": "e2ea058c",
   "metadata": {},
   "outputs": [],
   "source": [
    "from bs4 import BeautifulSoup\n",
    "from html_table_parser import parser_functions as parser"
   ]
  },
  {
   "cell_type": "code",
   "execution_count": 26,
   "id": "d12899b3",
   "metadata": {},
   "outputs": [],
   "source": [
    "html = driver.page_source\n",
    "soup = BeautifulSoup(html, 'html.parser')"
   ]
  },
  {
   "cell_type": "code",
   "execution_count": 27,
   "id": "fd510421",
   "metadata": {},
   "outputs": [
    {
     "name": "stdout",
     "output_type": "stream",
     "text": [
      "[['죄송하다', '부정', '31'], ['이쁘다', '긍정', '29'], ['응원하다', '긍정', '29'], ['맛있다', '긍정', '26'], ['정 떨어지다', '부정', '24'], ['유명하다', '긍정', '19'], ['좋아하다', '긍정', '18'], ['먹고싶다', '긍정', '16'], ['달다', '중립', '14'], ['명성 자자하다', '긍정', '12'], ['감칠맛', '긍정', '11'], ['손맛', '긍정', '11'], ['웃음', '긍정', '11'], ['진심', '긍정', '10'], ['잘먹다', '긍정', '10'], ['흥행', '긍정', '10'], ['즐기다', '긍정', '9'], ['가고싶다', '긍정', '7'], ['정떨어지다', '부정', '5'], ['부럽다', '긍정', '5'], ['손님 많다', '긍정', '4'], ['웃다', '긍정', '4'], ['신기하다', '긍정', '4'], ['배부르다', '중립', '3'], ['맛 좋다', '긍정', '3'], ['잘모르다', '부정', '3'], ['좋다', '긍정', '3'], ['재미있다', '긍정', '3'], ['맛있는 음식', '긍정', '3'], ['사랑하다', '긍정', '3']]\n"
     ]
    }
   ],
   "source": [
    "# 댓글 평판 크롤링\n",
    "temp = soup.find_all('table')\n",
    "p = parser.make2d(temp[1])"
   ]
  },
  {
   "cell_type": "code",
   "execution_count": 31,
   "id": "14d4136b",
   "metadata": {},
   "outputs": [],
   "source": [
    "import openpyxl\n",
    "wb = openpyxl.Workbook()\n",
    "sheet = wb.active\n",
    "sheet.append([\"단어\", \"분류\", \"건수\"])\n",
    "\n",
    "for a in p:\n",
    "    sheet.append(a)\n",
    "\n",
    "wb.save(\"test.xlsx\")"
   ]
  },
  {
   "cell_type": "code",
   "execution_count": null,
   "id": "8e783086",
   "metadata": {},
   "outputs": [],
   "source": []
  }
 ],
 "metadata": {
  "kernelspec": {
   "display_name": "Python 3",
   "language": "python",
   "name": "python3"
  },
  "language_info": {
   "codemirror_mode": {
    "name": "ipython",
    "version": 3
   },
   "file_extension": ".py",
   "mimetype": "text/x-python",
   "name": "python",
   "nbconvert_exporter": "python",
   "pygments_lexer": "ipython3",
   "version": "3.8.8"
  },
  "toc": {
   "base_numbering": 1,
   "nav_menu": {},
   "number_sections": true,
   "sideBar": true,
   "skip_h1_title": false,
   "title_cell": "Table of Contents",
   "title_sidebar": "Contents",
   "toc_cell": false,
   "toc_position": {},
   "toc_section_display": true,
   "toc_window_display": false
  },
  "varInspector": {
   "cols": {
    "lenName": 16,
    "lenType": 16,
    "lenVar": 40
   },
   "kernels_config": {
    "python": {
     "delete_cmd_postfix": "",
     "delete_cmd_prefix": "del ",
     "library": "var_list.py",
     "varRefreshCmd": "print(var_dic_list())"
    },
    "r": {
     "delete_cmd_postfix": ") ",
     "delete_cmd_prefix": "rm(",
     "library": "var_list.r",
     "varRefreshCmd": "cat(var_dic_list()) "
    }
   },
   "types_to_exclude": [
    "module",
    "function",
    "builtin_function_or_method",
    "instance",
    "_Feature"
   ],
   "window_display": false
  }
 },
 "nbformat": 4,
 "nbformat_minor": 5
}
