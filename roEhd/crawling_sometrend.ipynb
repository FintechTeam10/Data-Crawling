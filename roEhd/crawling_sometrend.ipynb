{
 "cells": [
  {
   "cell_type": "code",
   "execution_count": 1,
   "id": "f75d2343",
   "metadata": {},
   "outputs": [],
   "source": [
    "from selenium import webdriver\n",
    "from selenium.webdriver.common.by import By\n",
    "from selenium.webdriver.support.ui import WebDriverWait\n",
    "from selenium.webdriver.support import expected_conditions as EC\n",
    "\n",
    "driver = webdriver.Chrome('C:/Tools/chromedriver.exe')"
   ]
  },
  {
   "cell_type": "code",
   "execution_count": 2,
   "id": "c318b1bd",
   "metadata": {},
   "outputs": [],
   "source": [
    "url = 'https://some.co.kr/analysis/social/reputation'\n",
    "driver.get(url)"
   ]
  },
  {
   "cell_type": "code",
   "execution_count": 3,
   "id": "f1ae420e",
   "metadata": {
    "scrolled": true
   },
   "outputs": [],
   "source": [
    "# 팝업창 닫기\n",
    "WebDriverWait(driver, 20).until(EC.element_to_be_clickable((By.XPATH, \"/html/body/div[13]/div[5]/div/p/a\"))).click()"
   ]
  },
  {
   "cell_type": "code",
   "execution_count": 4,
   "id": "a1621e58",
   "metadata": {},
   "outputs": [],
   "source": [
    "# 모달 열기\n",
    "driver.find_element_by_xpath(\"//button[@type='button']\").click()"
   ]
  },
  {
   "cell_type": "code",
   "execution_count": 5,
   "id": "aa912612",
   "metadata": {},
   "outputs": [],
   "source": [
    "# 검색 시작\n",
    "find = driver.find_element_by_xpath(\"/html/body/div[4]/div/div[1]/div[2]/div[1]/form/fieldset/div/div[1]/div/input\")\n",
    "find.send_keys(\"쯔양\")\n",
    "driver.find_element_by_xpath(\"/html/body/div[4]/div/div[1]/div[2]/div[2]/div/div[2]/button\").click()"
   ]
  },
  {
   "cell_type": "code",
   "execution_count": null,
   "id": "e2ea058c",
   "metadata": {},
   "outputs": [],
   "source": []
  }
 ],
 "metadata": {
  "kernelspec": {
   "display_name": "Python 3",
   "language": "python",
   "name": "python3"
  },
  "language_info": {
   "codemirror_mode": {
    "name": "ipython",
    "version": 3
   },
   "file_extension": ".py",
   "mimetype": "text/x-python",
   "name": "python",
   "nbconvert_exporter": "python",
   "pygments_lexer": "ipython3",
   "version": "3.8.8"
  },
  "toc": {
   "base_numbering": 1,
   "nav_menu": {},
   "number_sections": true,
   "sideBar": true,
   "skip_h1_title": false,
   "title_cell": "Table of Contents",
   "title_sidebar": "Contents",
   "toc_cell": false,
   "toc_position": {},
   "toc_section_display": true,
   "toc_window_display": false
  },
  "varInspector": {
   "cols": {
    "lenName": 16,
    "lenType": 16,
    "lenVar": 40
   },
   "kernels_config": {
    "python": {
     "delete_cmd_postfix": "",
     "delete_cmd_prefix": "del ",
     "library": "var_list.py",
     "varRefreshCmd": "print(var_dic_list())"
    },
    "r": {
     "delete_cmd_postfix": ") ",
     "delete_cmd_prefix": "rm(",
     "library": "var_list.r",
     "varRefreshCmd": "cat(var_dic_list()) "
    }
   },
   "types_to_exclude": [
    "module",
    "function",
    "builtin_function_or_method",
    "instance",
    "_Feature"
   ],
   "window_display": false
  }
 },
 "nbformat": 4,
 "nbformat_minor": 5
}
