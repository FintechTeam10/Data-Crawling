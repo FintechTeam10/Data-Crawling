{
 "cells": [
  {
   "cell_type": "code",
   "execution_count": 40,
   "id": "b7c0f8f0",
   "metadata": {},
   "outputs": [],
   "source": [
    "from bs4 import BeautifulSoup\n",
    "from selenium import webdriver\n",
    "from selenium.webdriver.common.keys import Keys\n",
    "from selenium.webdriver.support import expected_conditions as EC\n",
    "from selenium.webdriver.common.by import By\n",
    "from selenium.webdriver.support.ui import WebDriverWait\n",
    "\n",
    "import time\n",
    "import os\n",
    "import sys"
   ]
  },
  {
   "cell_type": "code",
   "execution_count": 41,
   "id": "298d0753",
   "metadata": {},
   "outputs": [],
   "source": [
    "driver = webdriver.Chrome()"
   ]
  },
  {
   "cell_type": "code",
   "execution_count": 42,
   "id": "e6b79849",
   "metadata": {},
   "outputs": [],
   "source": [
    "url = 'https://some.co.kr/analysis/social/reputation'\n",
    "driver.get(url)"
   ]
  },
  {
   "cell_type": "code",
   "execution_count": 43,
   "id": "157d8c80",
   "metadata": {},
   "outputs": [],
   "source": [
    "WebDriverWait(driver, 20).until(EC.element_to_be_clickable((By.XPATH, \"/html/body/div[13]/div[5]/div/p/a\"))).click()"
   ]
  },
  {
   "cell_type": "code",
   "execution_count": 45,
   "id": "a4cf6f39",
   "metadata": {},
   "outputs": [],
   "source": [
    "driver.find_element_by_xpath(\"//button[@type='button']\").click()"
   ]
  },
  {
   "cell_type": "code",
   "execution_count": 46,
   "id": "7a4c6ad5",
   "metadata": {},
   "outputs": [],
   "source": [
    "find = driver.find_element_by_xpath(\"/html/body/div[4]/div/div[1]/div[2]/div[1]/form/fieldset/div/div[1]/div/input\")\n",
    "find.send_keys(\"쯔양\")\n",
    "driver.find_element_by_xpath(\"/html/body/div[4]/div/div[1]/div[2]/div[2]/div/div[2]/button\").click()"
   ]
  },
  {
   "cell_type": "code",
   "execution_count": 47,
   "id": "76103374",
   "metadata": {},
   "outputs": [
    {
     "ename": "ModuleNotFoundError",
     "evalue": "No module named 'html_table_parser'",
     "output_type": "error",
     "traceback": [
      "\u001b[0;31m---------------------------------------------------------------------------\u001b[0m",
      "\u001b[0;31mModuleNotFoundError\u001b[0m                       Traceback (most recent call last)",
      "\u001b[0;32m<ipython-input-47-a18fa3f904e0>\u001b[0m in \u001b[0;36m<module>\u001b[0;34m\u001b[0m\n\u001b[1;32m      1\u001b[0m \u001b[0;32mfrom\u001b[0m \u001b[0mbs4\u001b[0m \u001b[0;32mimport\u001b[0m \u001b[0mBeautifulSoup\u001b[0m\u001b[0;34m\u001b[0m\u001b[0;34m\u001b[0m\u001b[0m\n\u001b[0;32m----> 2\u001b[0;31m \u001b[0;32mfrom\u001b[0m \u001b[0mhtml_table_parser\u001b[0m \u001b[0;32mimport\u001b[0m \u001b[0mparser_functions\u001b[0m \u001b[0;32mas\u001b[0m \u001b[0mparser\u001b[0m\u001b[0;34m\u001b[0m\u001b[0;34m\u001b[0m\u001b[0m\n\u001b[0m",
      "\u001b[0;31mModuleNotFoundError\u001b[0m: No module named 'html_table_parser'"
     ]
    }
   ],
   "source": [
    "from bs4 import BeautifulSoup\n",
    "from html_table_parser import parser_functions as parser"
   ]
  },
  {
   "cell_type": "code",
   "execution_count": 48,
   "id": "d6776704",
   "metadata": {},
   "outputs": [
    {
     "name": "stdout",
     "output_type": "stream",
     "text": [
      "\u001b[31mERROR: Could not find a version that satisfies the requirement parser_functions\u001b[0m\n",
      "\u001b[31mERROR: No matching distribution found for parser_functions\u001b[0m\n",
      "Note: you may need to restart the kernel to use updated packages.\n"
     ]
    }
   ],
   "source": []
  },
  {
   "cell_type": "code",
   "execution_count": null,
   "id": "2a2b3605",
   "metadata": {},
   "outputs": [],
   "source": []
  }
 ],
 "metadata": {
  "kernelspec": {
   "display_name": "Python 3",
   "language": "python",
   "name": "python3"
  },
  "language_info": {
   "codemirror_mode": {
    "name": "ipython",
    "version": 3
   },
   "file_extension": ".py",
   "mimetype": "text/x-python",
   "name": "python",
   "nbconvert_exporter": "python",
   "pygments_lexer": "ipython3",
   "version": "3.7.10"
  }
 },
 "nbformat": 4,
 "nbformat_minor": 5
}
